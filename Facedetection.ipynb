import numpy as np
import cv2
import face_recognition
from PIL import Image
import matplotlib.pyplot as plt

image = face_recognition.load_image_file("/content/friends.jpg")
plt.imshow(image)
plt.show();

face_locations = face_recognition.face_locations(image,model='cnn')
face_locations

for face_location in face_locations:
  top,right,bottom,left=face_location
  img=cv2.rectangle(image,(left,top),(right,bottom),(0,0,255),5)
plt.imshow(img)
plt.show();

#########
print(top)
print(bottom)
print(left)
print(right)
